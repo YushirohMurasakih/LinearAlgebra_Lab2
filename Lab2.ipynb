{
  "nbformat": 4,
  "nbformat_minor": 0,
  "metadata": {
    "colab": {
      "name": "Lab2.ipynb",
      "provenance": [],
      "collapsed_sections": []
    },
    "kernelspec": {
      "name": "python3",
      "display_name": "Python 3"
    }
  },
  "cells": [
    {
      "cell_type": "code",
      "metadata": {
        "colab": {
          "base_uri": "https://localhost:8080/"
        },
        "id": "dYVRl2CXz5cQ",
        "outputId": "e6445a96-4f8c-449e-956a-f7f1e6ad81c9"
      },
      "source": [
        "import numpy as np\r\n",
        "import matplotlib.pyplot as plt\r\n",
        "\r\n",
        "# DECLARED VECTORS\r\n",
        "\r\n",
        "vec1 = np.array([1,2])\r\n",
        "vec2 = np.array([3,4])\r\n",
        "vec3 = np.array([5,6])\r\n",
        "vec4 = np.array([7,8])\r\n",
        "vec5 = np.array([9,1])\r\n",
        "\r\n",
        "# A. ADDITION AND SUBTRACTION\r\n",
        "vecsum = vec1 + vec2 + vec3 + vec4 + vec5\r\n",
        "vecsum"
      ],
      "execution_count": 50,
      "outputs": [
        {
          "output_type": "execute_result",
          "data": {
            "text/plain": [
              "array([25, 21])"
            ]
          },
          "metadata": {
            "tags": []
          },
          "execution_count": 50
        }
      ]
    },
    {
      "cell_type": "code",
      "metadata": {
        "colab": {
          "base_uri": "https://localhost:8080/"
        },
        "id": "iHiyHdKbOQ6e",
        "outputId": "89b59c6b-6d04-4981-a4e8-9ba63bf3e9d9"
      },
      "source": [
        "vecdiff = vec1 - vec2 - vec3 - vec4 - vec5\r\n",
        "vecdiff"
      ],
      "execution_count": 49,
      "outputs": [
        {
          "output_type": "execute_result",
          "data": {
            "text/plain": [
              "array([-23, -17])"
            ]
          },
          "metadata": {
            "tags": []
          },
          "execution_count": 49
        }
      ]
    },
    {
      "cell_type": "code",
      "metadata": {
        "colab": {
          "base_uri": "https://localhost:8080/"
        },
        "id": "_Hi7wxihGdns",
        "outputId": "105dd08f-8910-41ab-c194-63d9074d08fc"
      },
      "source": [
        "# B. MULTIPLICATION AND DIVISION\r\n",
        "\r\n",
        "vecprod = vec1 * vec2 * vec3 * vec4 * vec5\r\n",
        "vecprod"
      ],
      "execution_count": 52,
      "outputs": [
        {
          "output_type": "execute_result",
          "data": {
            "text/plain": [
              "array([945, 384])"
            ]
          },
          "metadata": {
            "tags": []
          },
          "execution_count": 52
        }
      ]
    },
    {
      "cell_type": "code",
      "metadata": {
        "colab": {
          "base_uri": "https://localhost:8080/"
        },
        "id": "Utt2fvnVHKqm",
        "outputId": "c7e4f30a-fa1c-443a-8688-5251d65c7205"
      },
      "source": [
        "vecquot = vec1 / vec2 / vec3 / vec4 / vec5\r\n",
        "vecquot"
      ],
      "execution_count": 53,
      "outputs": [
        {
          "output_type": "execute_result",
          "data": {
            "text/plain": [
              "array([0.0010582 , 0.01041667])"
            ]
          },
          "metadata": {
            "tags": []
          },
          "execution_count": 53
        }
      ]
    },
    {
      "cell_type": "code",
      "metadata": {
        "colab": {
          "base_uri": "https://localhost:8080/"
        },
        "id": "wsJYipQ6KNwz",
        "outputId": "b21230fe-e946-4144-8a0c-dc73b9a7aea7"
      },
      "source": [
        "# C. SQUARING AND SQUARE ROOT\r\n",
        "vecsqr = vecsum + vecdiff + vecprod + vecquot\r\n",
        "vecsqr\r\n",
        "np.linalg.norm(vecsqr)\r\n",
        "np.sqrt(np.sum(np.square(vecsqr)))"
      ],
      "execution_count": 61,
      "outputs": [
        {
          "output_type": "execute_result",
          "data": {
            "text/plain": [
              "1023.407586289922"
            ]
          },
          "metadata": {
            "tags": []
          },
          "execution_count": 61
        }
      ]
    },
    {
      "cell_type": "code",
      "metadata": {
        "colab": {
          "base_uri": "https://localhost:8080/"
        },
        "id": "-NadUQzdOz-D",
        "outputId": "c3825ec0-7275-4cfb-921f-72d0a8c7ee4a"
      },
      "source": [
        "# D. SUMMATION\r\n",
        "\r\n",
        "vecsummation = vecsum + vecdiff + vecprod + vecquot\r\n",
        "vecsummation\r\n"
      ],
      "execution_count": 59,
      "outputs": [
        {
          "output_type": "execute_result",
          "data": {
            "text/plain": [
              "array([947.0010582 , 388.01041667])"
            ]
          },
          "metadata": {
            "tags": []
          },
          "execution_count": 59
        }
      ]
    },
    {
      "cell_type": "code",
      "metadata": {
        "colab": {
          "base_uri": "https://localhost:8080/",
          "height": 334
        },
        "id": "c1k0h-ZvH7MR",
        "outputId": "453491b5-d628-42eb-fb7b-5a54d6b36d7b"
      },
      "source": [
        "# VISUALIZATION\r\n",
        "\r\n",
        "L1 = vectotal\r\n",
        "L2 = vecdiff\r\n",
        "L3 = vecprod\r\n",
        "\r\n",
        "print(L1)\r\n",
        "print(L2)\r\n",
        "print(L3)\r\n",
        "\r\n",
        "plt.xlim(-10,10)\r\n",
        "plt.ylim(-10,10)\r\n",
        "plt.axhline(y=0, color = 'blue')\r\n",
        "plt.axvline(x=0, color = 'blue')\r\n",
        "plt.xlabel(\"Y\")\r\n",
        "plt.xlabel(\"X\")\r\n",
        "\r\n",
        "plt.quiver(0,0, L1[0], L1[1], angles =  'xy', scale_units =  'xy' , scale = 1, color = 'Red')\r\n",
        "plt.quiver(0,0, L2[0], L2[-1], angles =  'xy', scale_units =  'xy' , scale = 1, color = 'Green')\r\n",
        "plt.quiver(0,0, L3[0], L3[0], angles =  'xy', scale_units =  'xy' , scale = 1, color = 'Yellow')\r\n",
        "\r\n",
        "\r\n",
        "\r\n",
        "\r\n",
        "\r\n",
        "\r\n",
        "\r\n",
        "\r\n",
        "plt.grid()\r\n",
        "plt.show()\r\n"
      ],
      "execution_count": 69,
      "outputs": [
        {
          "output_type": "stream",
          "text": [
            "[25 21]\n",
            "[-23 -17]\n",
            "[945 384]\n"
          ],
          "name": "stdout"
        },
        {
          "output_type": "display_data",
          "data": {
            "image/png": "[encoded data removed]",
            "text/plain": [
              "<Figure size 432x288 with 1 Axes>"
            ]
          },
          "metadata": {
            "tags": [],
            "needs_background": "light"
          }
        }
      ]
    },
    {
      "cell_type": "code",
      "metadata": {
        "id": "ZTWgbIedQN7o"
      },
      "source": [
        ""
      ],
      "execution_count": null,
      "outputs": []
    }
  ]
}